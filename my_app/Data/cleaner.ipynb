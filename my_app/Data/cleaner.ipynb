{
 "cells": [
  {
   "cell_type": "code",
   "execution_count": 1,
   "metadata": {},
   "outputs": [],
   "source": [
    "import psycopg2\n",
    "import pandas as pd\n",
    "\n",
    "def get_conn_cur(): # define function name and arguments (there aren't any)\n",
    "  # Make a connection\n",
    "  conn = psycopg2.connect(\n",
    "    host=\"localhost\",\n",
    "    database=\"test\",\n",
    "    user=\"postgres\",\n",
    "    password=\"Guwap1017!\",\n",
    "    port='5432')\n",
    "  \n",
    "  cur = conn.cursor()   # Make a cursor after\n",
    "  return(conn, cur)   # Return both the connection and the cursor"
   ]
  },
  {
   "cell_type": "code",
   "execution_count": 4,
   "metadata": {},
   "outputs": [],
   "source": [
    "conn, cur = get_conn_cur()\n",
    "cur.execute(\"SELECT column_name FROM information_schema.columns WHERE table_name = 'rent'\")"
   ]
  },
  {
   "cell_type": "code",
   "execution_count": 5,
   "metadata": {},
   "outputs": [
    {
     "data": {
      "text/plain": [
       "[('ZIP Code',),\n",
       " ('0BR',),\n",
       " ('0BR - 90% Payment Standard',),\n",
       " ('0BR - 110% Payment Standard',),\n",
       " ('1BR',),\n",
       " ('1BR - 90% Payment Standard',),\n",
       " ('1BR - 110% Payment Standard',),\n",
       " ('2BR',),\n",
       " ('2BR - 90% Payment Standard',),\n",
       " ('2BR - 110% Payment Standard',),\n",
       " ('3BR',),\n",
       " ('3BR - 90% Payment Standard',),\n",
       " ('3BR - 110% Payment Standard',),\n",
       " ('4BR',),\n",
       " ('4BR - 90% Payment Standard',),\n",
       " ('4BR - 110% Payment Standard',),\n",
       " ('city',),\n",
       " ('state',)]"
      ]
     },
     "execution_count": 5,
     "metadata": {},
     "output_type": "execute_result"
    }
   ],
   "source": []
  },
  {
   "cell_type": "code",
   "execution_count": null,
   "metadata": {},
   "outputs": [],
   "source": []
  }
 ],
 "metadata": {
  "kernelspec": {
   "display_name": "Python 3.8.8 ('venv': venv)",
   "language": "python",
   "name": "python3"
  },
  "language_info": {
   "codemirror_mode": {
    "name": "ipython",
    "version": 3
   },
   "file_extension": ".py",
   "mimetype": "text/x-python",
   "name": "python",
   "nbconvert_exporter": "python",
   "pygments_lexer": "ipython3",
   "version": "3.8.8"
  },
  "orig_nbformat": 4,
  "vscode": {
   "interpreter": {
    "hash": "d890467a73d19df8b94dd6b662d83244e2a239c7d3068efd8318cf9387baff61"
   }
  }
 },
 "nbformat": 4,
 "nbformat_minor": 2
}
